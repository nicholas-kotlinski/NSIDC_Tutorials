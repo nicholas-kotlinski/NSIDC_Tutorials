{
 "cells": [
  {
   "cell_type": "markdown",
   "metadata": {},
   "source": [
    "## <b>How do I calculate the orbit number of an ICESat-2 granule?</b>"
   ]
  },
  {
   "cell_type": "markdown",
   "metadata": {},
   "source": [
    "This notebook contains references to common questions related to orbit number and Reference Ground Tracks (RGTs) and a simple equation to calculate the orbit of your granule. \n",
    "\n",
    "Orbit information is included in the data granule under the following parameters:\n",
    "* orbit_info/orbit_number\n",
    "* ancillary_data/start_orbit\n",
    "* ancillary_data/end_orbit\n",
    "\n",
    "#### Beginning Orbit Number\n,
    "The first ICESat-2 orbit in the data time series is #434. This is due to the science team’s tracking of the satellite’s orbit (#1-433) after the instrument was turned on but not yet transmitting science data. The orbit number is available a parameter ‘orbit_number’ in the ATL products.\n",
    "\n",
    "#### Beginning RGT\n",
    "The first ICESat-2 time series began on RGT #234. More information on RGTs, orbit and off pointing can be found here: https://icesat-2.gsfc.nasa.gov/science/specs.\n",
    "\n",
    "#### Calculate the <b>Orbit</b> of your granule:"
   ]
  },
  {
   "cell_type": "code",
   "execution_count": null,
   "metadata": {},
   "outputs": [],
   "source": [
    "cycle = input()\n",
    "RGT = input()"
   ]
  },
  {
   "cell_type": "code",
   "execution_count": null,
   "metadata": {},
   "outputs": [],
   "source": [
    "orbit_number = (int(cycle) - 1) * 1387 + int(RGT) + 201\n",
    "print(orbit_number)"
   ]
  }
 ],
 "metadata": {
  "kernelspec": {
   "display_name": "Python 3",
   "language": "python",
   "name": "python3"
  },
  "language_info": {
   "codemirror_mode": {
    "name": "ipython",
    "version": 3
   },
   "file_extension": ".py",
   "mimetype": "text/x-python",
   "name": "python",
   "nbconvert_exporter": "python",
   "pygments_lexer": "ipython3",
   "version": "3.8.5"
  }
 },
 "nbformat": 4,
 "nbformat_minor": 4
}
