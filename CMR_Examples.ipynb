{
 "cells": [
  {
   "cell_type": "markdown",
   "metadata": {},
   "source": [
    "## <b>How do I programmatically search for new ICESat-2 granules?</b>\n",
    "\n",
    "The National Snow and Ice Data Center (NSIDC) isn't able to regularly update users of additions to the ICESat-2 collection outside of major version updates. To keep users informed of new ICESat-2 granules, we provide a programmatic method for querying the most recent ICESat-2 data using the Common Metadata Repository (CMR) API ([Learn more](https://cmr.earthdata.nasa.gov/search/site/docs/search/api.html)).\n",
    "\n",
    "The methods are broken up into *1. Collection*, *2. Granule*, and *3. Reference Ground Track (RGT)* query parameter sections."
   ]
  },
  {
   "cell_type": "code",
   "execution_count": null,
   "metadata": {},
   "outputs": [],
   "source": [
    "import requests\n",
    "import json"
   ]
  },
  {
   "cell_type": "code",
   "execution_count": null,
   "metadata": {},
   "outputs": [],
   "source": [
    "# URLs\n",
    "granule_search_url = 'https://cmr.earthdata.nasa.gov/search/granules'\n",
    "collection_search_url = 'https://cmr.earthdata.nasa.gov/search/collections'\n",
    "\n",
    "# If using scrolling, it is good practice to clear the session when done to free up resources on the server using this url\n",
    "clear_scroll_url = 'https://cmr.earthdata.nasa.gov/search/clear-scroll'"
   ]
  },
  {
   "cell_type": "markdown",
   "metadata": {},
   "source": [
    "### <b>1. Query Collections</b>\n",
    "\n",
    "#### *What is the latest <b>version</b> for a collection?*"
   ]
  },
  {
   "cell_type": "code",
   "execution_count": null,
   "metadata": {},
   "outputs": [],
   "source": [
    "params = {\n",
    "    'short_name': 'ATL06',\n",
    "}\n",
    "headers={'Accept': 'application/json'}\n",
    "\n",
    "response = requests.get(collection_search_url, params=params, headers=headers)\n",
    "results = response.json()\n",
    "\n",
    "versions = [el['version_id'] for el in results['feed']['entry']]\n",
    "latest_version = max(versions)  # may need to adjust this if collection versions aren't in lexographic order\n",
    "print(f'Latest version {latest_version}')"
   ]
  },
  {
   "cell_type": "markdown",
   "metadata": {},
   "source": [
    "#### *'has_granules_created_at'*\n",
    "\n",
    "Check which ICESat-2 collections have new granules since a given time.\n",
    "Collections can be queried for whether they have new granules in a given time-range using the 'has_granules_created_at' parameter"
   ]
  },
  {
   "cell_type": "code",
   "execution_count": null,
   "metadata": {},
   "outputs": [],
   "source": [
    "last_query_datetime = '2020-12-01T00:00:00Z'\n",
    "params = {\n",
    "    'short_name': 'ATL??',\n",
    "    'version': '003',\n",
    "    'options[short_name][pattern]': 'true',\n",
    "    'has_granules_created_at': f'{last_query_datetime},'  # Note: empty upper bound defaults to today\n",
    "}\n",
    "headers={'Accept': 'application/json'}\n",
    "\n",
    "response = requests.get(collection_search_url, params=params, headers=headers)\n",
    "results = response.json()['feed']['entry']\n",
    "\n",
    "collections = [el['short_name'] for el in results]\n",
    "print(f'Have granules created since {last_query_datetime}: {collections}')"
   ]
  },
  {
   "cell_type": "markdown",
   "metadata": {},
   "source": [
    "#### *'has_granules_revised_at'*\n",
    "\n",
    "Check which ICESat-2 collections have new or updated granules since a given time. To similarly query collections for both new or updated granules in a given time-range, use the 'has_granules_revised_at' parameter"
   ]
  },
  {
   "cell_type": "code",
   "execution_count": null,
   "metadata": {},
   "outputs": [],
   "source": [
    "last_query_datetime = '2020-12-01T00:00:00Z'\n",
    "params = {\n",
    "    'short_name': 'ATL??',\n",
    "    'version': '003',\n",
    "    'options[short_name][pattern]': 'true',\n",
    "    'has_granules_revised_at': f'{last_query_datetime},'  # Note: empty upper bound defaults to today\n",
    "}\n",
    "headers={'Accept': 'application/json'}\n",
    "\n",
    "response = requests.get(collection_search_url, params=params, headers=headers)\n",
    "results = response.json()['feed']['entry']\n",
    "\n",
    "collections = [el['short_name'] for el in results]\n",
    "print(f'Have granules created since {last_query_datetime}: {collections}')"
   ]
  },
  {
   "cell_type": "markdown",
   "metadata": {},
   "source": [
    "### <b>2. Query Granules</b>\n",
    "\n",
    "#### *'updated_since'*\n",
    "\n",
    "Checking for recently updated and/or added granules for a given bounding box. The parameter 'updated_since' will return granules added or updated since the given date"
   ]
  },
  {
   "cell_type": "code",
   "execution_count": null,
   "metadata": {},
   "outputs": [],
   "source": [
    "short_name = 'ATL03'\n",
    "last_query_datetime = '2020-11-01T00:00:00Z'\n",
    "page_size = 100\n",
    "params = {\n",
    "    'short_name': 'ATL03',\n",
    "    'version': '003',\n",
    "    'bounding_box': '-109.060253,36.992426,-102.041524,41.003444',  # Colorado\n",
    "    'updated_since': last_query_datetime,\n",
    "    'scroll': 'true',  # initiates a session for this query, ensuring efficient accurate retrieval of results\n",
    "    'page_size': page_size\n",
    "}\n",
    "headers={'Accept': 'application/json'}\n",
    "\n",
    "granules = []\n",
    "scroll_id = None\n",
    "count = 0\n",
    "while True:\n",
    "    response = requests.get(granule_search_url, params=params, headers=headers)\n",
    "    if scroll_id is None:\n",
    "        scroll_id = response.headers['CMR-Scroll-Id']\n",
    "        headers['scroll_id'] = scroll_id\n",
    "        hits = int(response.headers['CMR-Hits'])\n",
    "\n",
    "    results = response.json()['feed']['entry']\n",
    "    count += len(results)\n",
    "    granules.extend(results)\n",
    "\n",
    "    if count == hits:\n",
    "        break\n",
    "\n",
    "# Clear scroll id to release resources on servers\n",
    "requests.post(clear_scroll_url, json={'scroll_id': scroll_id}, headers={'Content-Type': 'application/json'})\n",
    "\n",
    "print(f'Granules updated for {short_name} since {last_query_datetime}: {len(granules)}')"
   ]
  },
  {
   "cell_type": "markdown",
   "metadata": {},
   "source": [
    "#### Get information on size and number of updated granules"
   ]
  },
  {
   "cell_type": "code",
   "execution_count": null,
   "metadata": {},
   "outputs": [],
   "source": [
    "granule_sizes = [float(granule['granule_size']) for granule in granules]\n",
    "print(f'The average size of each granule is {mean(granule_sizes):.1f} MB and the total size of all {len(granules)} granules is {sum(granule_sizes):.1f} MB')"
   ]
  },
  {
   "cell_type": "code",
   "execution_count": null,
   "metadata": {},
   "outputs": [],
   "source": [
    "granule_list = [granule['producer_granule_id'] for granule in granules]\n",
    "print (\"The first and last updated granules are: \" +  str(granule_list[::len(granule_list)-1])) "
   ]
  },
  {
   "cell_type": "markdown",
   "metadata": {},
   "source": [
    "#### *'revision_date'*\n",
    "\n",
    "Checking for added/updated granules for a given bounding box and time-range. The parameter 'revision_date' can also be used to query a time-range for added/revised granules"
   ]
  },
  {
   "cell_type": "code",
   "execution_count": null,
   "metadata": {},
   "outputs": [],
   "source": [
    "short_name = 'ATL03'\n",
    "time_range = '2020-11-01T00:00:00Z,2021-01-01T00:00:00Z'\n",
    "page_size = 100\n",
    "params = {\n",
    "    'short_name': 'ATL03',\n",
    "    'version': '003',\n",
    "    'bounding_box': '-109.060253,36.992426,-102.041524,41.003444',  # Colorado\n",
    "    'revision_date': time_range,\n",
    "    'scroll': 'true',  # initiates a session for this query, ensuring efficient accurate retrieval of results\n",
    "    'page_size': page_size\n",
    "}\n",
    "headers={'Accept': 'application/json'}\n",
    "\n",
    "granules = []\n",
    "scroll_id = None\n",
    "count = 0\n",
    "while True:\n",
    "    response = requests.get(granule_search_url, params=params, headers=headers)\n",
    "    if scroll_id is None:\n",
    "        scroll_id = response.headers['CMR-Scroll-Id']\n",
    "        headers['scroll_id'] = scroll_id\n",
    "        hits = int(response.headers['CMR-Hits'])\n",
    "\n",
    "    results = response.json()['feed']['entry']\n",
    "    count += len(results)\n",
    "    granules.extend(results)\n",
    "\n",
    "    if count == hits:\n",
    "        break\n",
    "\n",
    "# Clear scroll id to release resources on servers\n",
    "requests.post(clear_scroll_url, json={'scroll_id': scroll_id}, headers={'Content-Type': 'application/json'})\n",
    "\n",
    "print(f'Updated granules for {short_name} during the time-range {time_range}: {len(granules)}')"
   ]
  },
  {
   "cell_type": "markdown",
   "metadata": {},
   "source": [
    "### <b>3. Query Reference Ground Track (RGT)</b>\n",
    "\n",
    "*Note*: ground tracks are not available as a query parameter in CMR, but this can still be accomplished for ICESat-2 using 'readable_granule_name' patterns with the orbit number calculated from cycle and RGT numbers\n",
    "\n",
    "#### Query granules by RGT"
   ]
  },
  {
   "cell_type": "code",
   "execution_count": null,
   "metadata": {},
   "outputs": [],
   "source": [
    "RGT = 472\n",
    "short_name = 'ATL03'\n",
    "page_size = 100\n",
    "params = {\n",
    "    'short_name': short_name,\n",
    "    'version': '003',\n",
    "    'options[readable_granule_name][pattern]': 'true',\n",
    "    'readable_granule_name': f'{short_name}_??????????????_{str(RGT).zfill(4)}????_*',\n",
    "    'scroll': 'true',  # initiates a session for this query, ensuring efficient accurate retrieval of results\n",
    "    'page_size': page_size\n",
    "}\n",
    "headers={'Accept': 'application/json'}\n",
    "granules = []\n",
    "count = 0\n",
    "while True:\n",
    "    response = requests.get(granule_search_url, params=params, headers=headers)\n",
    "    if 'CMR-Scroll-Id' not in headers:\n",
    "        headers['CMR-Scroll-Id'] = response.headers['CMR-Scroll-Id']\n",
    "        hits = int(response.headers['CMR-Hits'])\n",
    "    results = response.json()['feed']['entry']\n",
    "    count += len(results)\n",
    "    granules.extend(results)\n",
    "    if count == hits:\n",
    "        break\n",
    "# Clear scroll id to release resources on servers\n",
    "requests.post(clear_scroll_url, json={'scroll_id': headers['CMR-Scroll-Id']}, headers={'Content-Type': 'application/json'})\n",
    "print(f'Granules for RGT {RGT}: {len(granules)}')"
   ]
  },
  {
   "cell_type": "markdown",
   "metadata": {},
   "source": [
    "#### Query granules by RGT and Cycle"
   ]
  },
  {
   "cell_type": "code",
   "execution_count": null,
   "metadata": {},
   "outputs": [],
   "source": [
    "RGT = 472\n",
    "short_name = 'ATL03'\n",
    "cycle = 9\n",
    "page_size = 100\n",
    "params = {\n",
    "    'short_name': short_name,\n",
    "    'version': '003',\n",
    "    'options[readable_granule_name][pattern]': 'true',\n",
    "    'readable_granule_name': f'{short_name}_??????????????_{str(RGT).zfill(4)}{str(cycle).zfill(2)}??_*',\n",
    "    'scroll': 'true',  # initiates a session for this query, ensuring efficient accurate retrieval of results\n",
    "    'page_size': page_size\n",
    "}\n",
    "headers={'Accept': 'application/json'}\n",
    "granules = []\n",
    "count = 0\n",
    "while True:\n",
    "    response = requests.get(granule_search_url, params=params, headers=headers)\n",
    "    if 'CMR-Scroll-Id' not in headers:\n",
    "        headers['CMR-Scroll-Id'] = response.headers['CMR-Scroll-Id']\n",
    "        hits = int(response.headers['CMR-Hits'])\n",
    "    results = response.json()['feed']['entry']\n",
    "    count += len(results)\n",
    "    granules.extend(results)\n",
    "    if count == hits:\n",
    "        break\n",
    "# Clear scroll id to release resources on servers\n",
    "requests.post(clear_scroll_url, json={'scroll_id': headers['CMR-Scroll-Id']}, headers={'Content-Type': 'application/json'})\n",
    "print(f'Granules for RGT {RGT} in Cycle {cycle}: {len(granules)}')"
   ]
  },
  {
   "cell_type": "code",
   "execution_count": null,
   "metadata": {},
   "outputs": [],
   "source": [
    "granule_list = [granule['producer_granule_id'] for granule in granules]\n",
    "print (\"The first and last updated granules are: \" +  str(granule_list[::len(granule_list)-1])) "
   ]
  },
  {
   "cell_type": "code",
   "execution_count": null,
   "metadata": {},
   "outputs": [],
   "source": [
    "print(*granule_list, sep = \"\\n\")"
   ]
  }
 ],
 "metadata": {
  "kernelspec": {
   "display_name": "Python 3",
   "language": "python",
   "name": "python3"
  },
  "language_info": {
   "codemirror_mode": {
    "name": "ipython",
    "version": 3
   },
   "file_extension": ".py",
   "mimetype": "text/x-python",
   "name": "python",
   "nbconvert_exporter": "python",
   "pygments_lexer": "ipython3",
   "version": "3.8.5"
  }
 },
 "nbformat": 4,
 "nbformat_minor": 4
}
